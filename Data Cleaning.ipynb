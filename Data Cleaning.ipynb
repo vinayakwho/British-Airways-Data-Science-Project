{
 "cells": [
  {
   "cell_type": "code",
   "execution_count": 58,
   "id": "6ca2ee02-d5bf-43f3-ae39-4ad2db5a1123",
   "metadata": {},
   "outputs": [],
   "source": [
    "import pandas as pd\n",
    "import matplotlib.pyplot as plt\n",
    "import seaborn as sns\n",
    "import os \n",
    "\n",
    "#regex\n",
    "import re"
   ]
  },
  {
   "cell_type": "code",
   "execution_count": 59,
   "id": "905e92fd-9faf-4de3-ac53-217cd8bbd582",
   "metadata": {},
   "outputs": [],
   "source": [
    "#create a dataframe from csv file\n",
    "\n",
    "cwd = os.getcwd()\n",
    "\n",
    "df = pd.read_csv(cwd+\"/BA_reviews.csv\", index_col=0)"
   ]
  },
  {
   "cell_type": "code",
   "execution_count": 60,
   "id": "3b396f4c-e26c-4183-b2c5-e1bf1a40a027",
   "metadata": {},
   "outputs": [
    {
     "data": {
      "text/html": [
       "<div>\n",
       "<style scoped>\n",
       "    .dataframe tbody tr th:only-of-type {\n",
       "        vertical-align: middle;\n",
       "    }\n",
       "\n",
       "    .dataframe tbody tr th {\n",
       "        vertical-align: top;\n",
       "    }\n",
       "\n",
       "    .dataframe thead th {\n",
       "        text-align: right;\n",
       "    }\n",
       "</style>\n",
       "<table border=\"1\" class=\"dataframe\">\n",
       "  <thead>\n",
       "    <tr style=\"text-align: right;\">\n",
       "      <th></th>\n",
       "      <th>reviews</th>\n",
       "      <th>stars</th>\n",
       "      <th>date</th>\n",
       "      <th>country</th>\n",
       "    </tr>\n",
       "  </thead>\n",
       "  <tbody>\n",
       "    <tr>\n",
       "      <th>0</th>\n",
       "      <td>✅ Trip Verified |  While BA may have made some...</td>\n",
       "      <td>5.0</td>\n",
       "      <td>23rd June 2024</td>\n",
       "      <td>Canada</td>\n",
       "    </tr>\n",
       "    <tr>\n",
       "      <th>1</th>\n",
       "      <td>✅ Trip Verified | British Airways new Club Sui...</td>\n",
       "      <td>3.0</td>\n",
       "      <td>23rd June 2024</td>\n",
       "      <td>Canada</td>\n",
       "    </tr>\n",
       "    <tr>\n",
       "      <th>2</th>\n",
       "      <td>✅ Trip Verified |  Four very pleasant, on time...</td>\n",
       "      <td>5.0</td>\n",
       "      <td>18th June 2024</td>\n",
       "      <td>United Kingdom</td>\n",
       "    </tr>\n",
       "    <tr>\n",
       "      <th>3</th>\n",
       "      <td>Not Verified |   We travel extensively over 25...</td>\n",
       "      <td>9.0</td>\n",
       "      <td>18th June 2024</td>\n",
       "      <td>United Kingdom</td>\n",
       "    </tr>\n",
       "    <tr>\n",
       "      <th>4</th>\n",
       "      <td>✅ Trip Verified |  Flight delayed an hour due ...</td>\n",
       "      <td>2.0</td>\n",
       "      <td>17th June 2024</td>\n",
       "      <td>United Kingdom</td>\n",
       "    </tr>\n",
       "  </tbody>\n",
       "</table>\n",
       "</div>"
      ],
      "text/plain": [
       "                                             reviews  stars            date  \\\n",
       "0  ✅ Trip Verified |  While BA may have made some...    5.0  23rd June 2024   \n",
       "1  ✅ Trip Verified | British Airways new Club Sui...    3.0  23rd June 2024   \n",
       "2  ✅ Trip Verified |  Four very pleasant, on time...    5.0  18th June 2024   \n",
       "3  Not Verified |   We travel extensively over 25...    9.0  18th June 2024   \n",
       "4  ✅ Trip Verified |  Flight delayed an hour due ...    2.0  17th June 2024   \n",
       "\n",
       "          country  \n",
       "0          Canada  \n",
       "1          Canada  \n",
       "2  United Kingdom  \n",
       "3  United Kingdom  \n",
       "4  United Kingdom  "
      ]
     },
     "execution_count": 60,
     "metadata": {},
     "output_type": "execute_result"
    }
   ],
   "source": [
    "df.head()"
   ]
  },
  {
   "cell_type": "code",
   "execution_count": 61,
   "id": "dab26575-b33e-4d1d-80ab-feba86b31ea3",
   "metadata": {},
   "outputs": [],
   "source": [
    "df['verified'] = df.reviews.str.contains(\"Trip Verified\")"
   ]
  },
  {
   "cell_type": "code",
   "execution_count": 62,
   "id": "21e7413a-3474-44c5-99a5-8bb9d13943e7",
   "metadata": {},
   "outputs": [
    {
     "data": {
      "text/plain": [
       "0        True\n",
       "1        True\n",
       "2        True\n",
       "3       False\n",
       "4        True\n",
       "        ...  \n",
       "3495    False\n",
       "3496    False\n",
       "3497    False\n",
       "3498    False\n",
       "3499    False\n",
       "Name: verified, Length: 3500, dtype: bool"
      ]
     },
     "execution_count": 62,
     "metadata": {},
     "output_type": "execute_result"
    }
   ],
   "source": [
    "df['verified']"
   ]
  },
  {
   "cell_type": "markdown",
   "id": "a85e432f-dd61-4a5c-8d3c-744bd99529eb",
   "metadata": {},
   "source": [
    "### Cleaning Reviews\n",
    "\n",
    "We will extract the column of reviews into a separate dataframe and clean it for semantic analysis"
   ]
  },
  {
   "cell_type": "code",
   "execution_count": 63,
   "id": "a4239531-4b5b-45fb-9ba0-bc8f8b68f703",
   "metadata": {},
   "outputs": [],
   "source": [
    "import re\n",
    "import nltk\n",
    "from nltk.stem import WordNetLemmatizer\n",
    "from nltk.corpus import stopwords"
   ]
  },
  {
   "cell_type": "code",
   "execution_count": 64,
   "id": "2483e9b3-ed92-4416-8f66-19c7595ba22b",
   "metadata": {},
   "outputs": [
    {
     "name": "stdout",
     "output_type": "stream",
     "text": [
      "['/Users/vinayakpachauri/nltk_data', '/opt/anaconda3/nltk_data', '/opt/anaconda3/share/nltk_data', '/opt/anaconda3/lib/nltk_data', '/usr/share/nltk_data', '/usr/local/share/nltk_data', '/usr/lib/nltk_data', '/usr/local/lib/nltk_data', '/Users/vinayakpachauri/nltk_data', '/Users/vinayakpachauri/nltk_data', '/Users/vinayakpachauri/nltk_data/corpora/stopwords', '/Users/vinayakpachauri/nltk_data/corpora/wordnet', '/Users/vinayakpachauri/nltk_data/corpora/stopwords', '/Users/vinayakpachauri/nltk_data/corpora/wordnet']\n"
     ]
    }
   ],
   "source": [
    "import nltk\n",
    "print(nltk.data.path)"
   ]
  },
  {
   "cell_type": "code",
   "execution_count": 65,
   "id": "c2a9488b-ebe6-40a0-b6e8-9ac913d7883f",
   "metadata": {},
   "outputs": [
    {
     "name": "stdout",
     "output_type": "stream",
     "text": [
      "['stopwords', 'wordnet.zip', 'stopwords.zip']\n"
     ]
    }
   ],
   "source": [
    "import os\n",
    "\n",
    "print(os.listdir('/Users/vinayakpachauri/nltk_data/corpora'))\n"
   ]
  },
  {
   "cell_type": "code",
   "execution_count": 66,
   "id": "6a3b19f5-4a74-402f-97d1-a8a862cecb8c",
   "metadata": {},
   "outputs": [
    {
     "name": "stderr",
     "output_type": "stream",
     "text": [
      "[nltk_data] Downloading package stopwords to\n",
      "[nltk_data]     /Users/vinayakpachauri/nltk_data...\n",
      "[nltk_data]   Package stopwords is already up-to-date!\n",
      "[nltk_data] Downloading package wordnet to\n",
      "[nltk_data]     /Users/vinayakpachauri/nltk_data...\n",
      "[nltk_data]   Package wordnet is already up-to-date!\n"
     ]
    }
   ],
   "source": [
    "import os\n",
    "import nltk\n",
    "from nltk.stem import WordNetLemmatizer\n",
    "from nltk.corpus import stopwords\n",
    "\n",
    "# Set the NLTK_DATA environment variable\n",
    "os.environ['NLTK_DATA'] = '/Users/vinayakpachauri/nltk_data'\n",
    "\n",
    "# Ensure the necessary NLTK corpora are downloaded\n",
    "nltk.download('stopwords', download_dir='/Users/vinayakpachauri/nltk_data')\n",
    "nltk.download('wordnet', download_dir='/Users/vinayakpachauri/nltk_data')\n",
    "\n",
    "lemma = WordNetLemmatizer()\n",
    "\n",
    "reviews_data = df.reviews.str.strip(\"✅ Trip Verified |\")\n",
    "\n",
    "# Create an empty list to collect cleaned data corpus\n",
    "corpus = []\n",
    "\n",
    "# Loop through each review, remove punctuations, small case it, join it and add it to corpus\n",
    "for rev in reviews_data:\n",
    "    rev = re.sub('[^a-zA-Z]', ' ', rev)\n",
    "    rev = rev.lower()\n",
    "    rev = rev.split()\n",
    "    rev = [lemma.lemmatize(word) for word in rev if word not in set(stopwords.words(\"english\"))]\n",
    "    rev = \" \".join(rev)\n",
    "    corpus.append(rev)\n"
   ]
  },
  {
   "cell_type": "code",
   "execution_count": 67,
   "id": "139041af-37b5-40e9-9d01-6152ce2e5b8e",
   "metadata": {},
   "outputs": [
    {
     "name": "stdout",
     "output_type": "stream",
     "text": [
      "['/Users/vinayakpachauri/nltk_data', '/opt/anaconda3/nltk_data', '/opt/anaconda3/share/nltk_data', '/opt/anaconda3/lib/nltk_data', '/usr/share/nltk_data', '/usr/local/share/nltk_data', '/usr/lib/nltk_data', '/usr/local/lib/nltk_data', '/Users/vinayakpachauri/nltk_data', '/Users/vinayakpachauri/nltk_data', '/Users/vinayakpachauri/nltk_data/corpora/stopwords', '/Users/vinayakpachauri/nltk_data/corpora/wordnet', '/Users/vinayakpachauri/nltk_data/corpora/stopwords', '/Users/vinayakpachauri/nltk_data/corpora/wordnet']\n"
     ]
    }
   ],
   "source": [
    "import nltk\n",
    "\n",
    "print(nltk.data.path)\n"
   ]
  },
  {
   "cell_type": "code",
   "execution_count": 68,
   "id": "21801a85-2d28-4098-84e2-7b645a654d04",
   "metadata": {},
   "outputs": [
    {
     "data": {
      "text/plain": [
       "[Synset('dog.n.01'),\n",
       " Synset('frump.n.01'),\n",
       " Synset('dog.n.03'),\n",
       " Synset('cad.n.01'),\n",
       " Synset('frank.n.02'),\n",
       " Synset('pawl.n.01'),\n",
       " Synset('andiron.n.01'),\n",
       " Synset('chase.v.01')]"
      ]
     },
     "execution_count": 68,
     "metadata": {},
     "output_type": "execute_result"
    }
   ],
   "source": [
    "from nltk.corpus import stopwords\n",
    "from nltk.corpus import wordnet as wn\n",
    "\n",
    "stopwords_path = '/Users/vinayakpachauri/nltk_data/corpora/stopwords'\n",
    "wordnet_path = '/Users/vinayakpachauri/nltk_data/corpora/wordnet'\n",
    "\n",
    "nltk.data.path.append(stopwords_path)\n",
    "nltk.data.path.append(wordnet_path)\n",
    "\n",
    "stopwords.words('english')\n",
    "wn.synsets('dog')\n"
   ]
  },
  {
   "cell_type": "code",
   "execution_count": 69,
   "id": "c829bd97-6519-49ca-884c-ef764c2ec9aa",
   "metadata": {},
   "outputs": [],
   "source": [
    "df['corpus'] = corpus"
   ]
  },
  {
   "cell_type": "code",
   "execution_count": 57,
   "id": "e789cdbd-fb21-4732-b7f4-808e53f04a8c",
   "metadata": {},
   "outputs": [
    {
     "data": {
      "text/html": [
       "<div>\n",
       "<style scoped>\n",
       "    .dataframe tbody tr th:only-of-type {\n",
       "        vertical-align: middle;\n",
       "    }\n",
       "\n",
       "    .dataframe tbody tr th {\n",
       "        vertical-align: top;\n",
       "    }\n",
       "\n",
       "    .dataframe thead th {\n",
       "        text-align: right;\n",
       "    }\n",
       "</style>\n",
       "<table border=\"1\" class=\"dataframe\">\n",
       "  <thead>\n",
       "    <tr style=\"text-align: right;\">\n",
       "      <th></th>\n",
       "      <th>date</th>\n",
       "    </tr>\n",
       "  </thead>\n",
       "  <tbody>\n",
       "    <tr>\n",
       "      <th>0</th>\n",
       "      <td>2024-06-18</td>\n",
       "    </tr>\n",
       "    <tr>\n",
       "      <th>1</th>\n",
       "      <td>2023-07-03</td>\n",
       "    </tr>\n",
       "    <tr>\n",
       "      <th>2</th>\n",
       "      <td>2022-08-22</td>\n",
       "    </tr>\n",
       "  </tbody>\n",
       "</table>\n",
       "</div>"
      ],
      "text/plain": [
       "        date\n",
       "0 2024-06-18\n",
       "1 2023-07-03\n",
       "2 2022-08-22"
      ]
     },
     "execution_count": 57,
     "metadata": {},
     "output_type": "execute_result"
    }
   ],
   "source": [
    "df.head()"
   ]
  },
  {
   "cell_type": "markdown",
   "id": "9dd8afe0-ebe3-481b-9d50-2e4b4b37c158",
   "metadata": {},
   "source": [
    "### Cleaning/Format Date"
   ]
  },
  {
   "cell_type": "code",
   "execution_count": 38,
   "id": "9bce378e-4558-433a-9f81-726feb1b15d5",
   "metadata": {},
   "outputs": [
    {
     "data": {
      "text/plain": [
       "reviews      object\n",
       "stars       float64\n",
       "date         object\n",
       "country      object\n",
       "verified       bool\n",
       "corpus       object\n",
       "dtype: object"
      ]
     },
     "execution_count": 38,
     "metadata": {},
     "output_type": "execute_result"
    }
   ],
   "source": [
    "df.dtypes"
   ]
  },
  {
   "cell_type": "code",
   "execution_count": 74,
   "id": "e7b96027-5032-4303-a7f8-48f57da61d6a",
   "metadata": {},
   "outputs": [],
   "source": [
    "import pandas as pd\n",
    "import re\n",
    "\n",
    "\n"
   ]
  },
  {
   "cell_type": "code",
   "execution_count": 75,
   "id": "3c5e0f02-c95b-425f-8f75-fb27ed34e306",
   "metadata": {},
   "outputs": [],
   "source": [
    "# convert the date to datetime format\n",
    "\n",
    "df.date = pd.to_datetime(df.date)"
   ]
  },
  {
   "cell_type": "code",
   "execution_count": 76,
   "id": "efcc5498-baa9-41c0-9251-ce9b4ac29af7",
   "metadata": {},
   "outputs": [
    {
     "data": {
      "text/plain": [
       "date    datetime64[ns]\n",
       "dtype: object"
      ]
     },
     "execution_count": 76,
     "metadata": {},
     "output_type": "execute_result"
    }
   ],
   "source": [
    "df.dtypes"
   ]
  },
  {
   "cell_type": "code",
   "execution_count": 77,
   "id": "d151cddc-7f73-4bc0-ae2b-0ccfb8898a57",
   "metadata": {},
   "outputs": [
    {
     "data": {
      "text/plain": [
       "0   2024-06-18\n",
       "1   2023-07-03\n",
       "2   2022-08-22\n",
       "Name: date, dtype: datetime64[ns]"
      ]
     },
     "execution_count": 77,
     "metadata": {},
     "output_type": "execute_result"
    }
   ],
   "source": [
    "df.date.head()"
   ]
  },
  {
   "cell_type": "markdown",
   "id": "ee9eb417-bcf9-4aa2-bfd1-95cd7b7c74a0",
   "metadata": {},
   "source": [
    "### Cleaning rating with stars"
   ]
  },
  {
   "cell_type": "code",
   "execution_count": 84,
   "id": "a9fda721-82bf-4e01-854a-1acf486f4fc5",
   "metadata": {},
   "outputs": [],
   "source": [
    "import pandas as pd\n",
    "import numpy as np"
   ]
  },
  {
   "cell_type": "code",
   "execution_count": 88,
   "id": "3429a40a-605d-411d-983a-13a495413441",
   "metadata": {},
   "outputs": [],
   "source": [
    "import os \n",
    "\n",
    "cwd= os.getcwd()\n",
    "df.to_csv(cwd+ \"/BA_reviews.csv\")\n"
   ]
  },
  {
   "cell_type": "code",
   "execution_count": 89,
   "id": "7ccc2083-4394-4f2f-bd4f-e4fc5e3e3146",
   "metadata": {},
   "outputs": [
    {
     "name": "stdout",
     "output_type": "stream",
     "text": [
      "Index(['date'], dtype='object')\n"
     ]
    }
   ],
   "source": [
    "print(df.columns)\n"
   ]
  },
  {
   "cell_type": "code",
   "execution_count": null,
   "id": "ef1e1f66-8a43-439c-a725-be67dfd2eebf",
   "metadata": {},
   "outputs": [],
   "source": []
  }
 ],
 "metadata": {
  "kernelspec": {
   "display_name": "Python 3 (ipykernel)",
   "language": "python",
   "name": "python3"
  },
  "language_info": {
   "codemirror_mode": {
    "name": "ipython",
    "version": 3
   },
   "file_extension": ".py",
   "mimetype": "text/x-python",
   "name": "python",
   "nbconvert_exporter": "python",
   "pygments_lexer": "ipython3",
   "version": "3.11.7"
  }
 },
 "nbformat": 4,
 "nbformat_minor": 5
}
